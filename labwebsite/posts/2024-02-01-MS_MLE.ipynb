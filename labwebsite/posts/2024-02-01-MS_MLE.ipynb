{
 "cells": [
  {
   "cell_type": "raw",
   "id": "f4d56669-8413-42e0-bf0c-84e4e9f13dad",
   "metadata": {},
   "source": [
    "---\n",
    "title: \"MLE Charge Determination in ESI Mass Spectrometry\"\n",
    "description: \"Calculate mass and charge from an ESI-mass spectrum\"\n",
    "author: \"Colin Kinz-Thompson\"\n",
    "date: \"02/01/2024\"\n",
    "format:\n",
    "  html:\n",
    "    toc: true\n",
    "    code-fold: false\n",
    "---"
   ]
  },
  {
   "cell_type": "markdown",
   "id": "5eed705d-751d-451a-a4e8-a589451f5fac",
   "metadata": {
    "tags": []
   },
   "source": [
    "# Background\n",
    "Often in an ESI-mass spectrum, you can see many peaks corresponding to different charge-states of the same molecule (i.e., with the same mass). Unfortunately, we only know the $m/z$ value of these peaks, and do not know the charge corresponding to each peak. While neighboring peaks should have a $\\pm 1$ relationship, we do not know if the first peak (i.e., highest $m/z$ we can see) is the $z=+1$ peak or some other charge. Charge determination must be performed in order to figure out the charge of each peak, and thus determine the mass of the molecule. Advanced deconvolution techinques exist for this purpose (including max-entropy based techniques), but here I'll derive an accessible formula using maximum-likelihood estimation to calculate the charge and mass of the molecule simultaneously from several peak locations.\n",
    "\n",
    "## Nomenclature\n",
    "* A list of peaks $\\{x_i\\}$. This is just several $m/z$ values you have identified as belonging to the same series in a mass spectrum (i.e., via their common envelope).\n",
    "* A reference index, $0$. Pick one, it doesn't matter which -- it could be the largest, or the first.\n",
    "* The mass of the reference molecule, $m_0$. Drop the $0$ for ease of typing ($m$). \n",
    "* The charge of the reference molecule, $z_0$. Drop the $0$ for ease of typing ($z$). \n",
    "* $n_i$ is the index relative to the reference peak (i.e., $n_0=0$, $n_1=1$, $n_{-1}=-1, ...$).\n",
    "* $\\langle X \\rangle \\equiv \\frac{1}{N} \\sum_{i=1}^{N} X_i$\n",
    "\n",
    "## Assumptions\n",
    "Peaks are located at: $$x_i = \\frac{m_0+n_i}{z_0+n_i}$$"
   ]
  },
  {
   "cell_type": "markdown",
   "id": "5745f27e-97ff-4c52-8e6b-6deb6ee2778f",
   "metadata": {},
   "source": [
    "# MLE Equations\n",
    "Rearrange to find the \n",
    "$$x_i z + n_i (x_i - 1) = m.$$\n",
    "Note that this implies we can transform the peaks into mass if we know the charge and index. If the we assume normal distributed errors, and a common, constant variance, we can write \n",
    "$$\\mathcal{L} = \\prod_i \\mathcal{N}(x_i z+n_i (x_i-1) \\vert m, \\sigma^2).$$\n",
    "\n",
    "We'll use the maximum-likelihood approach to estimate $m$ and $z$. But first, note that\n",
    "$$ \\ln \\mathcal{L} \\propto - \\sum_i (x_i z+n_i (x_i-1)- m)^2$$\n",
    "\n",
    "## Estimate $m$\n",
    "$$0=\\frac{d \\ln \\mathcal{L}}{d m} $$\n",
    "$$0= \\sum_i 2(x_i z+n_i(x_i-1)-m)(-1)$$\n",
    "$$= \\sum_i (x_i z+n_i(x_i-1)-m)$$\n",
    "$$= \\langle xz \\rangle + \\langle n(x-1)\\rangle - m$$\n",
    "\n",
    "and finally\n",
    "$$\\implies m = z \\langle x\\rangle + \\langle n(x-1)\\rangle$$\n",
    "\n",
    "\n",
    "## Estimate $z$\n",
    "$$0=\\frac{d \\ln \\mathcal{L}}{d z} $$\n",
    "$$0= \\sum_i 2(x_i z+n_i(x_i-1)-m)(x_i)$$\n",
    "$$= z \\langle x^2\\rangle +\\langle  nx(x-1) \\rangle -m\\langle x\\rangle$$\n",
    "$$= z \\langle x^2\\rangle +\\langle  nx(x-1) \\rangle -z\\langle x\\rangle^2 - langle x\\rangle\\langle n(x-1)\\rangle$$\n",
    "and finally\n",
    "$$\\implies z = \\frac{\\langle x\\rangle \\langle (x-1)n\\rangle - \\langle x(x-1)n \\rangle}{\\langle x^2 \\rangle - \\langle x \\rangle^2}$$\n",
    "\n",
    "## Revisit $m$\n",
    "Plugging in, we get \n",
    "$$\\implies m = \\left(\\frac{\\langle x\\rangle \\langle (x-1)n\\rangle - \\langle x(x-1)n \\rangle}{\\langle x^2 \\rangle - \\langle x \\rangle^2} \\right) \\langle x\\rangle + \\langle n(x-1)\\rangle$$\n",
    "\n",
    "## Thoughts\n",
    "Therefore, we have two separate equations that only depend on the values of $\\{x\\}$ and $\\{n\\}$ and we can estimate $m$ and $z$ from all the datapoints simultaneously. Note this is better (i.e., statistically speaking) than the typical approach of taking two neighboring peaks and doing:\n",
    "$$ x_1=\\frac{m+1}{z+1} \\approx \\frac{m}{z+1} \\rightarrow \\frac{1}{x_1}= \\frac{z}{m} + \\frac{1}{m} = \\frac{1}{x_0} + \\frac{1}{m}$$\n",
    "$$\\implies m\\approx \\frac{x_0x_1}{x_0-x_1}$$"
   ]
  },
  {
   "cell_type": "markdown",
   "id": "d2094db8",
   "metadata": {},
   "source": [
    "# Example\n",
    "Here's some Python code showing how to do this calculation. Note: it assumes you didn't skip any peaks (i.e., ...+14,15,17,18...); better to use a smaller peak list with no skipped peaks."
   ]
  },
  {
   "cell_type": "code",
   "execution_count": 1,
   "id": "9d565e0d",
   "metadata": {},
   "outputs": [
    {
     "name": "stdout",
     "output_type": "stream",
     "text": [
      "Mass: 16964.682\n",
      "Charge_0: 13.000357233961779\n",
      "----------------\n",
      "Peak (m/z), z\n",
      "1305.0 13\n",
      "1212.0 14\n",
      "1131.0 15\n",
      "1060.0 16\n",
      "998.0 17\n",
      "943.0 18\n",
      "893.0 19\n",
      "849.0 20\n",
      "808.0 21\n",
      "772.0 22\n",
      "738.0 23\n",
      "707.0 24\n",
      "679.0 25\n",
      "653.0 26\n"
     ]
    }
   ],
   "source": [
    "## Myoglobin peaks from https://www.ncbi.nlm.nih.gov/pmc/articles/PMC1853331/\n",
    "x = [1305.0,1212,1131,1060,998,943,893,849,808,772,738,707,679,653]\n",
    "\n",
    "\n",
    "import numpy as np\n",
    "x = np.array(x)\n",
    "x = np.sort(x)[::-1]\n",
    "\n",
    "n = np.arange(x.size)\n",
    "\n",
    "E_x = np.mean(x)\n",
    "E_x2 = np.mean(x**2.)\n",
    "E_xm1_n = np.mean((x-1.)*n)\n",
    "E_x_xm1_n = np.mean(x*(x-1.)*n)\n",
    "\n",
    "z = (E_x * E_xm1_n - E_x_xm1_n)/(E_x2 - E_x**2.)\n",
    "\n",
    "m = z*E_x + E_xm1_n\n",
    "\n",
    "print(\"Mass: %.3f\"%(m))\n",
    "print('Charge_0:',z)\n",
    "print('----------------')\n",
    "print('Peak (m/z), z')\n",
    "for i in range(x.size):\n",
    "\tprint(x[i], int(z+n[i]))"
   ]
  }
 ],
 "metadata": {
  "kernelspec": {
   "display_name": "Python 3 (ipykernel)",
   "language": "python",
   "name": "python3"
  },
  "language_info": {
   "codemirror_mode": {
    "name": "ipython",
    "version": 3
   },
   "file_extension": ".py",
   "mimetype": "text/x-python",
   "name": "python",
   "nbconvert_exporter": "python",
   "pygments_lexer": "ipython3",
   "version": "3.10.9"
  }
 },
 "nbformat": 4,
 "nbformat_minor": 5
}
