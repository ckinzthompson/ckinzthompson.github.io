{
 "cells": [
  {
   "cell_type": "raw",
   "id": "f4d56669-8413-42e0-bf0c-84e4e9f13dad",
   "metadata": {},
   "source": [
    "---\n",
    "title: \"MLE Charge Determination in ESI Mass Spectrometry\"\n",
    "description: \"Calculate mass and charge from an ESI-mass spectrum\"\n",
    "author: \"Colin Kinz-Thompson\"\n",
    "date: \"02/01/2024\"\n",
    "date-modified: \"03/17/2024\"\n",
    "format:\n",
    "  html:\n",
    "    toc: true\n",
    "    code-fold: false\n",
    "---"
   ]
  },
  {
   "cell_type": "markdown",
   "id": "5eed705d-751d-451a-a4e8-a589451f5fac",
   "metadata": {
    "tags": []
   },
   "source": [
    "*Editted 2024/03/17: to fix math*\n",
    "\n",
    "*Open in MS MLE tools in Colab:* <a href=\"https://colab.research.google.com/github/ckinzthompson/ckinzthompson.github.io/blob/main/additional/MS_MLE_colab.ipynb\" target=\"_parent\"><img src=\"https://colab.research.google.com/assets/colab-badge.svg\" alt=\"Open In Colab\"/></a>\n",
    "\n",
    "# Background\n",
    "Often in an ESI-mass spectrum, you can see many peaks corresponding to different charge-states of the same molecule (i.e., with the same mass). Unfortunately, we only know the $m/z$ value of these peaks, and do not know the charge corresponding to each peak. While neighboring peaks should have a $\\pm 1$ relationship, we do not know if the first peak (i.e., highest $m/z$ we can see) is the $z=+1$ peak or some other charge. Charge determination must be performed in order to figure out the charge of each peak, and thus determine the mass of the molecule. Advanced deconvolution techinques exist for this purpose (including max-entropy based techniques), but here I'll derive an accessible formula using maximum-likelihood estimation to calculate the charge and mass of the molecule simultaneously from several peak locations.\n",
    "\n",
    "## Nomenclature\n",
    "* A list of peaks $\\{x_i\\}$. This is just several $m/z$ values you have identified as belonging to the same series in a mass spectrum (i.e., via their common envelope).\n",
    "* A reference index, $0$. Pick one, it doesn't matter which -- it could be the largest, or the first.\n",
    "* The mass of the neutral molecule, $m$.\n",
    "* The charge of the reference molecule, $z_0$. Drop the $0$ for ease of typing ($z$). \n",
    "* $n_i$ is the index relative to the reference peak (i.e., $n_0=0$, $n_1=1$, $n_{-1}=-1, ...$).\n",
    "* $\\langle X \\rangle \\equiv \\frac{1}{N} \\sum_{i=1}^{N} X_i$\n",
    "\n",
    "## Assumptions\n",
    "Peaks are located at: $$x_i = \\frac{m+(z_0+n_i)* M_{H}}{z_0+n_i},$$\n",
    "where $M_H =  1.00784$ Da."
   ]
  },
  {
   "cell_type": "markdown",
   "id": "5745f27e-97ff-4c52-8e6b-6deb6ee2778f",
   "metadata": {},
   "source": [
    "# MLE Equations\n",
    "Rearrange to find \n",
    "$$m = z(x_i-M_H)+n_i(x_i-M_H) = zh_i + n_ih_i,$$\n",
    "where $h_i\\equiv x_i-M_H$.\n",
    "\n",
    "Note that this implies we can transform the peaks into mass if we know the charge and index. If the we assume normal distributed errors, and a common, constant variance, we can write \n",
    "$$\\mathcal{L} = \\prod_i \\mathcal{N}(zh_i + n_ih_i \\vert m, \\sigma^2).$$\n",
    "\n",
    "We'll use the maximum-likelihood approach to estimate $m$ and $z$. But first, note that\n",
    "$$ \\ln \\mathcal{L} \\propto \\sum_i (zh_i + n_ih_i- m)^2$$"
   ]
  },
  {
   "cell_type": "markdown",
   "id": "cbac7388",
   "metadata": {},
   "source": [
    "## Estimate $m$\n",
    "The MLE estimate is obtained by setting the derivative to zero\n",
    "$$0=\\frac{d \\ln \\mathcal{L}}{d m}.$$\n",
    "We can solve for m to get\n",
    "$$0 = \\sum_i 2(zh_i-n_ih_i-m)(-1) = \\sum_i (zh_i-n_ih_i-m) = z\\langle h \\rangle + \\langle nh\\rangle - m$$\n",
    "\n",
    "$$\\implies m = z \\langle h\\rangle + \\langle nh\\rangle$$"
   ]
  },
  {
   "cell_type": "markdown",
   "id": "bfe004c9",
   "metadata": {},
   "source": [
    "## Estimate $z$\n",
    "The MLE estimate is obtained by setting the derivate to zero\n",
    "$$0=\\frac{d \\ln \\mathcal{L}}{d z}.$$\n",
    "\n",
    "Solving, we obtain\n",
    "$$0= \\sum_i 2(zh_i + n_ih_i - m)h_i$$\n",
    "$$\\implies z = \\frac{m\\langle h \\rangle - \\langle nh^2\\rangle}{\\langle h^2 \\rangle } $$"
   ]
  },
  {
   "cell_type": "markdown",
   "id": "facf42fb",
   "metadata": {},
   "source": [
    "## Decouple the results\n",
    "The equations above for $m$ and $z$ are not independent. By plugging the equation for $m$ into the equation for $z$ we obtain \n",
    "\n",
    "$$ z = \\frac{\\langle h\\rangle \\langle nh \\rangle - \\langle nh^2 \\rangle}{\\langle h^2 \\rangle - \\langle h\\rangle ^2}, $$\n",
    "\n",
    "which is just in terms of the statistics of the peaks and (relative) charge assignment indexing. The equation for $m$ is then obtained by plugging in to yield\n",
    "\n",
    "$$ m = \\frac{\\langle nh \\rangle \\langle h^2 \\rangle - \\langle nh^2 \\rangle \\langle h \\rangle}{\\langle h^2 \\rangle - \\langle h \\rangle^2} $$"
   ]
  },
  {
   "cell_type": "markdown",
   "id": "70e323fd",
   "metadata": {},
   "source": [
    "## Thoughts\n",
    "Therefore, we have two separate equations that only depend on the values of $\\{x\\}$ and $\\{n\\}$ and we can estimate $m$ and $z$ from all the datapoints simultaneously. Note this is better (i.e., statistically speaking) than the typical approach of taking two neighboring peaks and doing:\n",
    "$$ x_1=\\frac{m+1}{z+1} \\approx \\frac{m}{z+1} \\rightarrow \\frac{1}{x_1}= \\frac{z}{m} + \\frac{1}{m} = \\frac{1}{x_0} + \\frac{1}{m}$$\n",
    "which leads to\n",
    "\n",
    "$$ m\\approx \\frac{x_0x_1}{x_0-x_1},$$\n",
    "and  $$ z_0 \\approx \\frac{x_1}{x_0-x_1}.$$"
   ]
  },
  {
   "cell_type": "markdown",
   "id": "d2094db8",
   "metadata": {},
   "source": [
    "# Example\n",
    "Here's some Python code showing how to do this calculation. Note: it assumes you didn't skip any peaks (i.e., ...+14,15,17,18...); better to use a smaller peak list with no skipped peaks."
   ]
  },
  {
   "cell_type": "code",
   "execution_count": 1,
   "id": "9d565e0d",
   "metadata": {},
   "outputs": [
    {
     "name": "stdout",
     "output_type": "stream",
     "text": [
      "Mass: 16951.387\n",
      "Charge_0: 13.00020082077729\n",
      "----------------\n",
      "z, Peak (m/z)\n",
      "13 1305.0\n",
      "14 1212.0\n",
      "15 1131.0\n",
      "16 1060.0\n",
      "17 998.0\n",
      "18 943.0\n",
      "19 893.0\n",
      "20 849.0\n",
      "21 808.0\n",
      "22 772.0\n",
      "23 738.0\n",
      "24 707.0\n",
      "25 679.0\n",
      "26 653.0\n"
     ]
    }
   ],
   "source": [
    "import numpy as np\n",
    "\n",
    "## Myoglobin peaks from Fig. 5: https://www.ncbi.nlm.nih.gov/pmc/articles/PMC1853331/\n",
    "x = [1305.0,1212,1131,1060,998,943,893,849,808,772,738,707,679,653]\n",
    "x = np.array(x)\n",
    "x = np.sort(x)[::-1]\n",
    "\n",
    "n = np.arange(x.size)\n",
    "\n",
    "H = 1.00784\n",
    "hi = x-H\n",
    "E_h = np.mean(hi)\n",
    "E_h2 = np.mean(hi*hi)\n",
    "E_nh = np.mean(n*hi)\n",
    "E_nh2 = np.mean(n*hi*hi)\n",
    "\n",
    "z = (E_h*E_nh-E_nh2)/(E_h2-E_h**2.)\n",
    "m = z*E_h+E_nh\n",
    "\n",
    "\n",
    "print(\"Mass: %.3f\"%(m))\n",
    "print('Charge_0:',z)\n",
    "print('----------------')\n",
    "print('z, Peak (m/z)')\n",
    "for i in range(x.size):\n",
    "\tprint(int(z+n[i]),x[i])"
   ]
  }
 ],
 "metadata": {
  "kernelspec": {
   "display_name": "Python 3 (ipykernel)",
   "language": "python",
   "name": "python3"
  },
  "language_info": {
   "codemirror_mode": {
    "name": "ipython",
    "version": 3
   },
   "file_extension": ".py",
   "mimetype": "text/x-python",
   "name": "python",
   "nbconvert_exporter": "python",
   "pygments_lexer": "ipython3",
   "version": "3.10.9"
  }
 },
 "nbformat": 4,
 "nbformat_minor": 5
}
